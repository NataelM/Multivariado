{
 "cells": [
  {
   "cell_type": "markdown",
   "id": "fbac4e6f-994b-495b-beba-308e8ba1513e",
   "metadata": {},
   "source": [
    "<font color=\"Teal\" face=\"Comic Sans MS,arial\">\n",
    "  <h1 align=\"center\"><i>Ejercicio 3</i></h1>\n",
    "  </font>\n",
    "  <font color=\"Black\" face=\"Comic Sans MS,arial\">\n",
    "  <h5 align=\"center\"><i>estudiante: Lazcano Lagos Jhony Brandon</i></h5>\n",
    "  <h5 align=\"center\"><i>estudiante: Ramírez Montes Jonathan Natael</i></h5>\n",
    "  <h5 align=\"center\"><i>Análisis Multivariado</i></h5>\n",
    "  </font>"
   ]
  },
  {
   "cell_type": "code",
   "execution_count": 38,
   "id": "bbf6ac2a-9340-4d7a-aa77-b632fe295dbd",
   "metadata": {},
   "outputs": [],
   "source": [
    "import matplotlib.pyplot as plt\n",
    "import pandas as pd\n",
    "import seaborn as sns\n",
    "import dijkstra"
   ]
  },
  {
   "cell_type": "code",
   "execution_count": 2,
   "id": "0f0f5a50",
   "metadata": {},
   "outputs": [
    {
     "data": {
      "text/plain": [
       "[[0, 1, 1, 1, 0, 1, 0, 0, 0, 0, 0, 0, 0],\n",
       " [1, 0, 0, 0, 1, 0, 0, 0, 0, 0, 0, 0, 0],\n",
       " [1, 0, 0, 1, 1, 1, 1, 0, 0, 0, 0, 0, 0],\n",
       " [1, 0, 1, 0, 1, 0, 0, 0, 0, 0, 0, 0, 0],\n",
       " [0, 1, 1, 1, 0, 1, 0, 0, 0, 0, 0, 0, 0],\n",
       " [1, 0, 1, 0, 1, 0, 1, 0, 0, 0, 0, 0, 0],\n",
       " [0, 0, 1, 0, 0, 1, 0, 1, 0, 0, 0, 0, 1],\n",
       " [0, 0, 0, 0, 0, 0, 1, 0, 1, 1, 1, 0, 1],\n",
       " [0, 0, 0, 0, 0, 0, 0, 1, 0, 1, 0, 1, 0],\n",
       " [0, 0, 0, 0, 0, 0, 0, 1, 1, 0, 1, 0, 1],\n",
       " [0, 0, 0, 0, 0, 0, 0, 1, 0, 1, 0, 1, 1],\n",
       " [0, 0, 0, 0, 0, 0, 0, 0, 1, 0, 1, 0, 1],\n",
       " [0, 0, 0, 0, 0, 0, 1, 1, 0, 1, 1, 1, 0]]"
      ]
     },
     "execution_count": 2,
     "metadata": {},
     "output_type": "execute_result"
    }
   ],
   "source": [
    "matriz=[[0,1,1,1,0,1,0,0,0,0,0,0,0],\n",
    "        [1,0,0,0,1,0,0,0,0,0,0,0,0],\n",
    "        [1,0,0,1,1,1,1,0,0,0,0,0,0],\n",
    "        [1,0,1,0,1,0,0,0,0,0,0,0,0],\n",
    "        [0,1,1,1,0,1,0,0,0,0,0,0,0],\n",
    "        [1,0,1,0,1,0,1,0,0,0,0,0,0],\n",
    "        [0,0,1,0,0,1,0,1,0,0,0,0,1],\n",
    "        [0,0,0,0,0,0,1,0,1,1,1,0,1],\n",
    "        [0,0,0,0,0,0,0,1,0,1,0,1,0],\n",
    "        [0,0,0,0,0,0,0,1,1,0,1,0,1],\n",
    "        [0,0,0,0,0,0,0,1,0,1,0,1,1],\n",
    "        [0,0,0,0,0,0,0,0,1,0,1,0,1],\n",
    "        [0,0,0,0,0,0,1,1,0,1,1,1,0]]\n",
    "matriz"
   ]
  },
  {
   "cell_type": "code",
   "execution_count": 39,
   "id": "1be309c7",
   "metadata": {},
   "outputs": [
    {
     "ename": "TypeError",
     "evalue": "'module' object is not callable",
     "output_type": "error",
     "traceback": [
      "\u001b[1;31m---------------------------------------------------------------------------\u001b[0m",
      "\u001b[1;31mTypeError\u001b[0m                                 Traceback (most recent call last)",
      "\u001b[1;32m~\\AppData\\Local\\Temp\\ipykernel_18916\\2336850503.py\u001b[0m in \u001b[0;36m<module>\u001b[1;34m\u001b[0m\n\u001b[1;32m----> 1\u001b[1;33m \u001b[0mdijkstra\u001b[0m\u001b[1;33m(\u001b[0m\u001b[0mmatriz\u001b[0m\u001b[1;33m,\u001b[0m \u001b[1;36m0\u001b[0m\u001b[1;33m)\u001b[0m\u001b[1;33m\u001b[0m\u001b[1;33m\u001b[0m\u001b[0m\n\u001b[0m",
      "\u001b[1;31mTypeError\u001b[0m: 'module' object is not callable"
     ]
    }
   ],
   "source": [
    "dijkstra(matriz, 0)"
   ]
  }
 ],
 "metadata": {
  "kernelspec": {
   "display_name": "Python 3 (ipykernel)",
   "language": "python",
   "name": "python3"
  },
  "language_info": {
   "codemirror_mode": {
    "name": "ipython",
    "version": 3
   },
   "file_extension": ".py",
   "mimetype": "text/x-python",
   "name": "python",
   "nbconvert_exporter": "python",
   "pygments_lexer": "ipython3",
   "version": "3.9.13"
  }
 },
 "nbformat": 4,
 "nbformat_minor": 5
}
