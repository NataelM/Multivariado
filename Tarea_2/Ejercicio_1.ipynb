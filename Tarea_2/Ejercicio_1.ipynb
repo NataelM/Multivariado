{
 "cells": [
  {
   "cell_type": "markdown",
   "id": "7ad83db1-0bb3-4d36-b2bc-26a62289eb17",
   "metadata": {},
   "source": [
    "<font color=\"Teal\" face=\"Comic Sans MS,arial\">\n",
    "  <h1 align=\"center\"><i>Ejercicio 1</i></h1>\n",
    "  </font>\n",
    "  <font color=\"Black\" face=\"Comic Sans MS,arial\">\n",
    "  <h5 align=\"center\"><i>estudiante: Lazcano Lagos Jhony Brandon</i></h5>\n",
    "  <h5 align=\"center\"><i>estudiante: Ramírez Montes Jonathan Natael</i></h5>\n",
    "  <h5 align=\"center\"><i>Análisis Multivariado</i></h5>\n",
    "  </font>"
   ]
  },
  {
   "cell_type": "markdown",
   "id": "0f41448f-db73-4e88-bfd6-4ce05d6e07cd",
   "metadata": {},
   "source": [
    "1. El dataset de consumo plantas.csv contienen datos que corresponden a 17 plantas electricas y el consumo de agua en galones que estas generan mensualmente. donde \n",
    "* Y: Consumo de agua en galones, \n",
    "* X1: Temperatura media mensual en grados Fahrenheit, \n",
    "* X2: Produccion mensual en libras, \n",
    "* X3: Número de días de operacion mensual, \n",
    "* X4: Numero de empleados, \n",
    "* X5: No especificada. \n",
    "\n",
    "Se pretende explicar el consumo de agua (Y) en funcion de las demás variables."
   ]
  },
  {
   "cell_type": "code",
   "execution_count": 1,
   "id": "3fb00ba3-8b88-475c-a78d-650170a1d0fb",
   "metadata": {},
   "outputs": [],
   "source": [
    "import numpy as np\n",
    "import pandas as pd\n",
    "import statsmodels.api as sm\n",
    "from sklearn.preprocessing import StandardScaler\n",
    "from sklearn.decomposition import PCA"
   ]
  },
  {
   "cell_type": "markdown",
   "id": "b1b9bfb5-6a46-4623-8ac8-ebe6b2de6368",
   "metadata": {},
   "source": [
    "a) Ajuste un modelo de regresion lineal usando mínimos cuadrados y muestre la tabla con el resumen del ajuste. ¿Que observa en dicho ajuste?, ¿Como es el numero de condición y a que se debe?"
   ]
  },
  {
   "cell_type": "code",
   "execution_count": 2,
   "id": "248ba1ea-5e61-4b58-a64f-ecf82ac6f1ea",
   "metadata": {},
   "outputs": [],
   "source": [
    "rel_path = './datasets/'\n",
    "plantas = pd.read_csv(rel_path + 'consumo_plantas.csv')"
   ]
  },
  {
   "cell_type": "code",
   "execution_count": 3,
   "id": "8be82f98-b988-4adb-abb8-933abd60f9e4",
   "metadata": {},
   "outputs": [
    {
     "data": {
      "text/html": [
       "<div>\n",
       "<style scoped>\n",
       "    .dataframe tbody tr th:only-of-type {\n",
       "        vertical-align: middle;\n",
       "    }\n",
       "\n",
       "    .dataframe tbody tr th {\n",
       "        vertical-align: top;\n",
       "    }\n",
       "\n",
       "    .dataframe thead th {\n",
       "        text-align: right;\n",
       "    }\n",
       "</style>\n",
       "<table border=\"1\" class=\"dataframe\">\n",
       "  <thead>\n",
       "    <tr style=\"text-align: right;\">\n",
       "      <th></th>\n",
       "      <th>Planta</th>\n",
       "      <th>Y</th>\n",
       "      <th>X1</th>\n",
       "      <th>X2</th>\n",
       "      <th>X3</th>\n",
       "      <th>X4</th>\n",
       "      <th>X5</th>\n",
       "    </tr>\n",
       "  </thead>\n",
       "  <tbody>\n",
       "    <tr>\n",
       "      <th>0</th>\n",
       "      <td>1</td>\n",
       "      <td>3067</td>\n",
       "      <td>58.8</td>\n",
       "      <td>7107</td>\n",
       "      <td>21</td>\n",
       "      <td>129</td>\n",
       "      <td>176.7</td>\n",
       "    </tr>\n",
       "    <tr>\n",
       "      <th>1</th>\n",
       "      <td>2</td>\n",
       "      <td>2828</td>\n",
       "      <td>65.2</td>\n",
       "      <td>6373</td>\n",
       "      <td>22</td>\n",
       "      <td>141</td>\n",
       "      <td>157.6</td>\n",
       "    </tr>\n",
       "    <tr>\n",
       "      <th>2</th>\n",
       "      <td>3</td>\n",
       "      <td>2891</td>\n",
       "      <td>70.9</td>\n",
       "      <td>6796</td>\n",
       "      <td>22</td>\n",
       "      <td>153</td>\n",
       "      <td>193.0</td>\n",
       "    </tr>\n",
       "    <tr>\n",
       "      <th>3</th>\n",
       "      <td>4</td>\n",
       "      <td>2994</td>\n",
       "      <td>77.4</td>\n",
       "      <td>9208</td>\n",
       "      <td>20</td>\n",
       "      <td>166</td>\n",
       "      <td>212.6</td>\n",
       "    </tr>\n",
       "    <tr>\n",
       "      <th>4</th>\n",
       "      <td>5</td>\n",
       "      <td>3082</td>\n",
       "      <td>79.3</td>\n",
       "      <td>14792</td>\n",
       "      <td>25</td>\n",
       "      <td>193</td>\n",
       "      <td>251.1</td>\n",
       "    </tr>\n",
       "  </tbody>\n",
       "</table>\n",
       "</div>"
      ],
      "text/plain": [
       "   Planta     Y    X1     X2  X3   X4     X5\n",
       "0       1  3067  58.8   7107  21  129  176.7\n",
       "1       2  2828  65.2   6373  22  141  157.6\n",
       "2       3  2891  70.9   6796  22  153  193.0\n",
       "3       4  2994  77.4   9208  20  166  212.6\n",
       "4       5  3082  79.3  14792  25  193  251.1"
      ]
     },
     "execution_count": 3,
     "metadata": {},
     "output_type": "execute_result"
    }
   ],
   "source": [
    "plantas.head()"
   ]
  },
  {
   "cell_type": "code",
   "execution_count": 4,
   "id": "0d1de96c-8d3e-4e74-b81f-7ba5b29fb19e",
   "metadata": {},
   "outputs": [
    {
     "name": "stdout",
     "output_type": "stream",
     "text": [
      "                            OLS Regression Results                            \n",
      "==============================================================================\n",
      "Dep. Variable:                      Y   R-squared:                       0.820\n",
      "Model:                            OLS   Adj. R-squared:                  0.738\n",
      "Method:                 Least Squares   F-statistic:                     9.995\n",
      "Date:                Thu, 08 Dec 2022   Prob (F-statistic):           0.000834\n",
      "Time:                        17:41:14   Log-Likelihood:                -112.78\n",
      "No. Observations:                  17   AIC:                             237.6\n",
      "Df Residuals:                      11   BIC:                             242.6\n",
      "Df Model:                           5                                         \n",
      "Covariance Type:            nonrobust                                         \n",
      "==============================================================================\n",
      "                 coef    std err          t      P>|t|      [0.025      0.975]\n",
      "------------------------------------------------------------------------------\n",
      "const       7707.9134   1423.389      5.415      0.000    4575.056    1.08e+04\n",
      "X1             1.7859      8.249      0.217      0.833     -16.370      19.941\n",
      "X2             0.2624      0.051      5.192      0.000       0.151       0.374\n",
      "X3          -169.1652     50.110     -3.376      0.006    -279.458     -58.873\n",
      "X4            -9.7740      9.491     -1.030      0.325     -30.664      11.116\n",
      "X5            -9.5434      5.331     -1.790      0.101     -21.276       2.189\n",
      "==============================================================================\n",
      "Omnibus:                        0.297   Durbin-Watson:                   2.905\n",
      "Prob(Omnibus):                  0.862   Jarque-Bera (JB):                0.456\n",
      "Skew:                           0.006   Prob(JB):                        0.796\n",
      "Kurtosis:                       2.198   Cond. No.                     3.43e+05\n",
      "==============================================================================\n",
      "\n",
      "Notes:\n",
      "[1] Standard Errors assume that the covariance matrix of the errors is correctly specified.\n",
      "[2] The condition number is large, 3.43e+05. This might indicate that there are\n",
      "strong multicollinearity or other numerical problems.\n"
     ]
    },
    {
     "name": "stderr",
     "output_type": "stream",
     "text": [
      "C:\\Users\\jonat\\anaconda3\\lib\\site-packages\\scipy\\stats\\stats.py:1603: UserWarning: kurtosistest only valid for n>=20 ... continuing anyway, n=17\n",
      "  warnings.warn(\"kurtosistest only valid for n>=20 ... continuing \"\n"
     ]
    }
   ],
   "source": [
    "# Separando las predictoras del target\n",
    "x = plantas[['X1', 'X2', 'X3', 'X4', 'X5']]\n",
    "y = plantas[['Y']]\n",
    "\n",
    "# anadiendo el termino cte\n",
    "x = sm.add_constant(x)\n",
    "\n",
    "# ajuste del modelo\n",
    "result = sm.OLS(y, x).fit()\n",
    "\n",
    "# resumen del modelo\n",
    "print(result.summary())"
   ]
  },
  {
   "cell_type": "markdown",
   "id": "971d912a-33ab-4c05-b528-fec154c59d2c",
   "metadata": {},
   "source": [
    "De lo anterior, podemos deducir que la variavilidad explicada ($R^2$) por el modelo es del 82%, es decir un 82% del incremento en el consumo de agua está dado por el incremento de las $X_i$ y dado que la $R^2$ ajustada se aleja bastante de $R^2$ podríamos inferir que tenemos variables de más, Además esto se apoya también de los P_values y los intervalos de confianza, pues podemos observar que X_1, X_4 y X_5 tiene un p_value mayor al 5% y sus intervalos de confianza tocan al cero por lo que dichas variables serían candidatas a salir del modelo\n",
    "\n",
    "El **número de condición** es grande y esto se debe a una posible multicolinealidad entre las variables, es decir que existe mas de una variable que está explicando lo mismo o que una columna podría ser una combinación lineal de otra"
   ]
  },
  {
   "cell_type": "markdown",
   "id": "88fd5278-d338-4e6e-975c-17e636a99208",
   "metadata": {},
   "source": [
    "b) Estandarice los datos de las variables explicativas con escalador estandar, posteriormente ajuste un modelo de componentes principales con 5 componentes. Calcule la varianza explicada acumulada por cada componente, muestre la matriz de transformacion PCA. ¿Que observa? ¿A que cree que deba dicho fenomeno?. No use la variable a regresar (Y) para estandarizar ni en las componentes."
   ]
  },
  {
   "cell_type": "code",
   "execution_count": 5,
   "id": "b730e145-78ac-4175-a09a-95075e342cb6",
   "metadata": {},
   "outputs": [],
   "source": [
    "scaler = StandardScaler()"
   ]
  },
  {
   "cell_type": "code",
   "execution_count": 6,
   "id": "13c83a2f-e6c3-4f53-b2a0-2ae0d47900dc",
   "metadata": {},
   "outputs": [],
   "source": [
    "feat_cols = ['X1', 'X2', 'X3', 'X4', 'X5']"
   ]
  },
  {
   "cell_type": "code",
   "execution_count": 7,
   "id": "d0760d73-434c-4507-af22-51fa682e1be9",
   "metadata": {},
   "outputs": [
    {
     "data": {
      "text/plain": [
       "StandardScaler()"
      ]
     },
     "execution_count": 7,
     "metadata": {},
     "output_type": "execute_result"
    }
   ],
   "source": [
    "scaler.fit(x[feat_cols])"
   ]
  },
  {
   "cell_type": "code",
   "execution_count": 8,
   "id": "0238b20d-33bf-45bc-9c8a-16a1c23b1699",
   "metadata": {},
   "outputs": [],
   "source": [
    "x_centered = scaler.transform(x[feat_cols])"
   ]
  },
  {
   "cell_type": "code",
   "execution_count": 9,
   "id": "8214c0ed-842c-4db1-a932-d019b0586137",
   "metadata": {},
   "outputs": [],
   "source": [
    "kw = len(feat_cols)"
   ]
  },
  {
   "cell_type": "code",
   "execution_count": 10,
   "id": "15674b84-c93e-4568-8596-820e6311fe1d",
   "metadata": {},
   "outputs": [],
   "source": [
    "pca_model_plant = PCA(n_components=kw).fit(x_centered)"
   ]
  },
  {
   "cell_type": "code",
   "execution_count": 11,
   "id": "2d9d3b80-7f77-40f6-9e2e-8500a9de3587",
   "metadata": {},
   "outputs": [],
   "source": [
    "#nombre de las columnas del pca\n",
    "pca_x_cols = ['pc'+str(i+1) for i in range(0,kw)]"
   ]
  },
  {
   "cell_type": "code",
   "execution_count": 12,
   "id": "7762702d-6fb0-4976-9d7d-bc542717e90b",
   "metadata": {},
   "outputs": [
    {
     "name": "stdout",
     "output_type": "stream",
     "text": [
      "*****************Matriz de cargas*****************\n"
     ]
    },
    {
     "data": {
      "text/html": [
       "<div>\n",
       "<style scoped>\n",
       "    .dataframe tbody tr th:only-of-type {\n",
       "        vertical-align: middle;\n",
       "    }\n",
       "\n",
       "    .dataframe tbody tr th {\n",
       "        vertical-align: top;\n",
       "    }\n",
       "\n",
       "    .dataframe thead th {\n",
       "        text-align: right;\n",
       "    }\n",
       "</style>\n",
       "<table border=\"1\" class=\"dataframe\">\n",
       "  <thead>\n",
       "    <tr style=\"text-align: right;\">\n",
       "      <th></th>\n",
       "      <th>pc1</th>\n",
       "      <th>pc2</th>\n",
       "      <th>pc3</th>\n",
       "      <th>pc4</th>\n",
       "      <th>pc5</th>\n",
       "      <th>cols</th>\n",
       "    </tr>\n",
       "  </thead>\n",
       "  <tbody>\n",
       "    <tr>\n",
       "      <th>0</th>\n",
       "      <td>0.188248</td>\n",
       "      <td>0.653083</td>\n",
       "      <td>0.679902</td>\n",
       "      <td>-0.060210</td>\n",
       "      <td>-0.268615</td>\n",
       "      <td>X1</td>\n",
       "    </tr>\n",
       "    <tr>\n",
       "      <th>1</th>\n",
       "      <td>-0.549779</td>\n",
       "      <td>0.248273</td>\n",
       "      <td>0.082817</td>\n",
       "      <td>0.749440</td>\n",
       "      <td>0.259970</td>\n",
       "      <td>X2</td>\n",
       "    </tr>\n",
       "    <tr>\n",
       "      <th>2</th>\n",
       "      <td>0.071478</td>\n",
       "      <td>0.681751</td>\n",
       "      <td>-0.718896</td>\n",
       "      <td>-0.059771</td>\n",
       "      <td>-0.098596</td>\n",
       "      <td>X3</td>\n",
       "    </tr>\n",
       "    <tr>\n",
       "      <th>3</th>\n",
       "      <td>-0.564651</td>\n",
       "      <td>0.182732</td>\n",
       "      <td>0.107221</td>\n",
       "      <td>-0.647975</td>\n",
       "      <td>0.465199</td>\n",
       "      <td>X4</td>\n",
       "    </tr>\n",
       "    <tr>\n",
       "      <th>4</th>\n",
       "      <td>-0.581692</td>\n",
       "      <td>-0.116906</td>\n",
       "      <td>-0.050660</td>\n",
       "      <td>-0.106161</td>\n",
       "      <td>-0.796323</td>\n",
       "      <td>X5</td>\n",
       "    </tr>\n",
       "  </tbody>\n",
       "</table>\n",
       "</div>"
      ],
      "text/plain": [
       "        pc1       pc2       pc3       pc4       pc5 cols\n",
       "0  0.188248  0.653083  0.679902 -0.060210 -0.268615   X1\n",
       "1 -0.549779  0.248273  0.082817  0.749440  0.259970   X2\n",
       "2  0.071478  0.681751 -0.718896 -0.059771 -0.098596   X3\n",
       "3 -0.564651  0.182732  0.107221 -0.647975  0.465199   X4\n",
       "4 -0.581692 -0.116906 -0.050660 -0.106161 -0.796323   X5"
      ]
     },
     "metadata": {},
     "output_type": "display_data"
    }
   ],
   "source": [
    "#matriz de transformación o cargas es el .components_\n",
    "pca_x_matrix = pd.DataFrame(pca_model_plant.components_.transpose(),\n",
    "                            columns = pca_x_cols[:kw])\n",
    "pca_x_matrix['cols'] = feat_cols\n",
    "print('Matriz de cargas'.center(50, '*'))\n",
    "display(pca_x_matrix)"
   ]
  },
  {
   "cell_type": "code",
   "execution_count": 13,
   "id": "ae51aafb-14e9-43f5-888f-f1e8aa98b656",
   "metadata": {},
   "outputs": [],
   "source": [
    "df_pca_plant = pd.DataFrame(pca_model_plant.transform(x_centered),\n",
    "                            columns = pca_x_cols[:kw])"
   ]
  },
  {
   "cell_type": "code",
   "execution_count": 14,
   "id": "a44db251-ca43-4fd4-9f76-91ee1eef79f7",
   "metadata": {},
   "outputs": [
    {
     "data": {
      "text/html": [
       "<div>\n",
       "<style scoped>\n",
       "    .dataframe tbody tr th:only-of-type {\n",
       "        vertical-align: middle;\n",
       "    }\n",
       "\n",
       "    .dataframe tbody tr th {\n",
       "        vertical-align: top;\n",
       "    }\n",
       "\n",
       "    .dataframe thead th {\n",
       "        text-align: right;\n",
       "    }\n",
       "</style>\n",
       "<table border=\"1\" class=\"dataframe\">\n",
       "  <thead>\n",
       "    <tr style=\"text-align: right;\">\n",
       "      <th></th>\n",
       "      <th>pc1</th>\n",
       "      <th>pc2</th>\n",
       "      <th>pc3</th>\n",
       "      <th>pc4</th>\n",
       "      <th>pc5</th>\n",
       "    </tr>\n",
       "  </thead>\n",
       "  <tbody>\n",
       "    <tr>\n",
       "      <th>0</th>\n",
       "      <td>3.200976</td>\n",
       "      <td>-1.202898</td>\n",
       "      <td>-0.395657</td>\n",
       "      <td>0.562092</td>\n",
       "      <td>-0.089517</td>\n",
       "    </tr>\n",
       "    <tr>\n",
       "      <th>1</th>\n",
       "      <td>3.364802</td>\n",
       "      <td>-0.309641</td>\n",
       "      <td>-0.508458</td>\n",
       "      <td>0.005754</td>\n",
       "      <td>0.218413</td>\n",
       "    </tr>\n",
       "    <tr>\n",
       "      <th>2</th>\n",
       "      <td>2.651303</td>\n",
       "      <td>0.025465</td>\n",
       "      <td>-0.177932</td>\n",
       "      <td>-0.366979</td>\n",
       "      <td>-0.165731</td>\n",
       "    </tr>\n",
       "    <tr>\n",
       "      <th>3</th>\n",
       "      <td>1.685424</td>\n",
       "      <td>-0.370732</td>\n",
       "      <td>1.276366</td>\n",
       "      <td>-0.220461</td>\n",
       "      <td>-0.003960</td>\n",
       "    </tr>\n",
       "    <tr>\n",
       "      <th>4</th>\n",
       "      <td>-0.092919</td>\n",
       "      <td>2.672824</td>\n",
       "      <td>-0.925997</td>\n",
       "      <td>-0.117923</td>\n",
       "      <td>0.012409</td>\n",
       "    </tr>\n",
       "    <tr>\n",
       "      <th>5</th>\n",
       "      <td>0.190905</td>\n",
       "      <td>1.789655</td>\n",
       "      <td>0.168702</td>\n",
       "      <td>0.069756</td>\n",
       "      <td>0.309971</td>\n",
       "    </tr>\n",
       "    <tr>\n",
       "      <th>6</th>\n",
       "      <td>0.458841</td>\n",
       "      <td>-0.461503</td>\n",
       "      <td>1.062354</td>\n",
       "      <td>0.050022</td>\n",
       "      <td>-0.124368</td>\n",
       "    </tr>\n",
       "    <tr>\n",
       "      <th>7</th>\n",
       "      <td>-0.137330</td>\n",
       "      <td>0.770500</td>\n",
       "      <td>-0.787184</td>\n",
       "      <td>-0.047961</td>\n",
       "      <td>0.066021</td>\n",
       "    </tr>\n",
       "    <tr>\n",
       "      <th>8</th>\n",
       "      <td>-0.710203</td>\n",
       "      <td>-1.232448</td>\n",
       "      <td>0.216068</td>\n",
       "      <td>-0.248984</td>\n",
       "      <td>0.049167</td>\n",
       "    </tr>\n",
       "    <tr>\n",
       "      <th>9</th>\n",
       "      <td>-1.507402</td>\n",
       "      <td>-1.985029</td>\n",
       "      <td>-0.578816</td>\n",
       "      <td>0.153720</td>\n",
       "      <td>-0.180928</td>\n",
       "    </tr>\n",
       "    <tr>\n",
       "      <th>10</th>\n",
       "      <td>-1.915830</td>\n",
       "      <td>-0.511082</td>\n",
       "      <td>-1.226333</td>\n",
       "      <td>0.374977</td>\n",
       "      <td>0.007706</td>\n",
       "    </tr>\n",
       "    <tr>\n",
       "      <th>11</th>\n",
       "      <td>-2.021031</td>\n",
       "      <td>-2.054935</td>\n",
       "      <td>0.251506</td>\n",
       "      <td>-0.291239</td>\n",
       "      <td>0.325997</td>\n",
       "    </tr>\n",
       "    <tr>\n",
       "      <th>12</th>\n",
       "      <td>-1.110656</td>\n",
       "      <td>-0.089908</td>\n",
       "      <td>-0.669399</td>\n",
       "      <td>-0.400637</td>\n",
       "      <td>-0.086922</td>\n",
       "    </tr>\n",
       "    <tr>\n",
       "      <th>13</th>\n",
       "      <td>-0.848556</td>\n",
       "      <td>0.388111</td>\n",
       "      <td>-0.213606</td>\n",
       "      <td>-0.024913</td>\n",
       "      <td>-0.142706</td>\n",
       "    </tr>\n",
       "    <tr>\n",
       "      <th>14</th>\n",
       "      <td>-0.512855</td>\n",
       "      <td>0.359031</td>\n",
       "      <td>0.738723</td>\n",
       "      <td>0.048599</td>\n",
       "      <td>0.058343</td>\n",
       "    </tr>\n",
       "    <tr>\n",
       "      <th>15</th>\n",
       "      <td>-1.594238</td>\n",
       "      <td>0.964800</td>\n",
       "      <td>1.162633</td>\n",
       "      <td>0.576518</td>\n",
       "      <td>0.052122</td>\n",
       "    </tr>\n",
       "    <tr>\n",
       "      <th>16</th>\n",
       "      <td>-1.101231</td>\n",
       "      <td>1.247790</td>\n",
       "      <td>0.607029</td>\n",
       "      <td>-0.122343</td>\n",
       "      <td>-0.306018</td>\n",
       "    </tr>\n",
       "  </tbody>\n",
       "</table>\n",
       "</div>"
      ],
      "text/plain": [
       "         pc1       pc2       pc3       pc4       pc5\n",
       "0   3.200976 -1.202898 -0.395657  0.562092 -0.089517\n",
       "1   3.364802 -0.309641 -0.508458  0.005754  0.218413\n",
       "2   2.651303  0.025465 -0.177932 -0.366979 -0.165731\n",
       "3   1.685424 -0.370732  1.276366 -0.220461 -0.003960\n",
       "4  -0.092919  2.672824 -0.925997 -0.117923  0.012409\n",
       "5   0.190905  1.789655  0.168702  0.069756  0.309971\n",
       "6   0.458841 -0.461503  1.062354  0.050022 -0.124368\n",
       "7  -0.137330  0.770500 -0.787184 -0.047961  0.066021\n",
       "8  -0.710203 -1.232448  0.216068 -0.248984  0.049167\n",
       "9  -1.507402 -1.985029 -0.578816  0.153720 -0.180928\n",
       "10 -1.915830 -0.511082 -1.226333  0.374977  0.007706\n",
       "11 -2.021031 -2.054935  0.251506 -0.291239  0.325997\n",
       "12 -1.110656 -0.089908 -0.669399 -0.400637 -0.086922\n",
       "13 -0.848556  0.388111 -0.213606 -0.024913 -0.142706\n",
       "14 -0.512855  0.359031  0.738723  0.048599  0.058343\n",
       "15 -1.594238  0.964800  1.162633  0.576518  0.052122\n",
       "16 -1.101231  1.247790  0.607029 -0.122343 -0.306018"
      ]
     },
     "execution_count": 14,
     "metadata": {},
     "output_type": "execute_result"
    }
   ],
   "source": [
    "df_pca_plant"
   ]
  },
  {
   "cell_type": "code",
   "execution_count": 15,
   "id": "e732393c-3e39-465a-b401-480d6cfd8117",
   "metadata": {},
   "outputs": [
    {
     "data": {
      "text/plain": [
       "array([0.56723789, 0.30062477, 0.11080613, 0.01582018, 0.00551102])"
      ]
     },
     "execution_count": 15,
     "metadata": {},
     "output_type": "execute_result"
    }
   ],
   "source": [
    "pca_model_plant.explained_variance_ratio_"
   ]
  },
  {
   "cell_type": "markdown",
   "id": "5d649241-106f-4418-a4af-e8053ec68e31",
   "metadata": {},
   "source": [
    "Se puede observar que las dos primeras PCA's se llevan el 86% de la explicabilidad de la varianza, tomar 3 PCA's acumula un 97% de la varianzada de los datos, también se puede observar que X2 y X3 en la matriz de cargas presentan 2 de los valores más altos en la matriz de cargas, esto podría estar ligado a que estas 2 variables aportan un poco más a la explicabilidad de los datos."
   ]
  },
  {
   "cell_type": "markdown",
   "id": "46001562-781a-455c-bff2-2d77ac774530",
   "metadata": {},
   "source": [
    "c) Ajuste de nuevo un modelo de regresion lineal usando mínimos cuadrados pero ahora sobre las componentes principales, luego muestre la tabla con el resumen del nuevo ajuste. ¿Que diferencia observa en el nuevo ajuste respecto al primero en el numero de condición y coeficiente de determinación?. Investigue y argumente como es que las componentes principales ayudan a mitigar el problema de la multicolinealidad severa."
   ]
  },
  {
   "cell_type": "code",
   "execution_count": 16,
   "id": "bd48cd8b-3bb4-46df-882d-5ee2b0bad51a",
   "metadata": {},
   "outputs": [
    {
     "name": "stdout",
     "output_type": "stream",
     "text": [
      "                            OLS Regression Results                            \n",
      "==============================================================================\n",
      "Dep. Variable:                      Y   R-squared:                       0.820\n",
      "Model:                            OLS   Adj. R-squared:                  0.738\n",
      "Method:                 Least Squares   F-statistic:                     9.995\n",
      "Date:                Thu, 08 Dec 2022   Prob (F-statistic):           0.000834\n",
      "Time:                        17:41:15   Log-Likelihood:                -112.78\n",
      "No. Observations:                  17   AIC:                             237.6\n",
      "Df Residuals:                      11   BIC:                             242.6\n",
      "Df Model:                           5                                         \n",
      "Covariance Type:            nonrobust                                         \n",
      "==============================================================================\n",
      "                 coef    std err          t      P>|t|      [0.025      0.975]\n",
      "------------------------------------------------------------------------------\n",
      "const       3303.7059     55.499     59.528      0.000    3181.554    3425.857\n",
      "pc1         -109.7579     32.954     -3.331      0.007    -182.290     -37.226\n",
      "pc2           92.5078     45.267      2.044      0.066      -7.125     192.140\n",
      "pc3          264.7892     74.561      3.551      0.005     100.680     428.898\n",
      "pc4          871.9513    197.329      4.419      0.001     437.634    1306.269\n",
      "pc5          535.6251    334.334      1.602      0.137    -200.239    1271.489\n",
      "==============================================================================\n",
      "Omnibus:                        0.297   Durbin-Watson:                   2.905\n",
      "Prob(Omnibus):                  0.862   Jarque-Bera (JB):                0.456\n",
      "Skew:                           0.006   Prob(JB):                        0.796\n",
      "Kurtosis:                       2.198   Cond. No.                         10.1\n",
      "==============================================================================\n",
      "\n",
      "Notes:\n",
      "[1] Standard Errors assume that the covariance matrix of the errors is correctly specified.\n"
     ]
    },
    {
     "name": "stderr",
     "output_type": "stream",
     "text": [
      "C:\\Users\\jonat\\anaconda3\\lib\\site-packages\\scipy\\stats\\stats.py:1603: UserWarning: kurtosistest only valid for n>=20 ... continuing anyway, n=17\n",
      "  warnings.warn(\"kurtosistest only valid for n>=20 ... continuing \"\n"
     ]
    }
   ],
   "source": [
    "x_pca = sm.add_constant(df_pca_plant)\n",
    "\n",
    "# ajuste del modelo\n",
    "mod_pca = sm.OLS(y, x_pca).fit()\n",
    "\n",
    "# resumen del modelo\n",
    "print(mod_pca.summary())"
   ]
  },
  {
   "cell_type": "markdown",
   "id": "ef1b2f1b-b727-496e-a01a-98bbe8c4731a",
   "metadata": {},
   "source": [
    "Con el modelo sin PCA's teníamos 3 variables que cuyo p_value > 0.05 y con el modelo de PCA's ahora observamos que sólo hay 2.\n",
    "\n",
    "En cuanto a la $R^2$ (coeficiente de determinación) y a la $R^2$ ajustada las métricas son las mismas (y tiene sentido, pues lo que se está haciendo con los datos es un cambio de base).\n",
    "\n",
    "En este modelo el número de condición desaperece lo que indica la desaparición de la multicolinealidad. La **razón** por la cual la multicolinealidad desaperece es porque las componenentes principales son ortogonales entre sí, eso dado por las propiedades del álgebra lineal en la construcción de las PCA's"
   ]
  }
 ],
 "metadata": {
  "kernelspec": {
   "display_name": "Python 3",
   "language": "python",
   "name": "python3"
  },
  "language_info": {
   "codemirror_mode": {
    "name": "ipython",
    "version": 3
   },
   "file_extension": ".py",
   "mimetype": "text/x-python",
   "name": "python",
   "nbconvert_exporter": "python",
   "pygments_lexer": "ipython3",
   "version": "3.8.13"
  }
 },
 "nbformat": 4,
 "nbformat_minor": 5
}
