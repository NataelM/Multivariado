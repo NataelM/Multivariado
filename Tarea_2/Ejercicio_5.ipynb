{
 "cells": [
  {
   "cell_type": "markdown",
   "id": "1b914d85-34c6-4ca4-b638-ff54200e2412",
   "metadata": {},
   "source": [
    "<font color=\"Teal\" face=\"Comic Sans MS,arial\">\n",
    "  <h1 align=\"center\"><i>Ejercicio 5</i></h1>\n",
    "  </font>\n",
    "  <font color=\"Black\" face=\"Comic Sans MS,arial\">\n",
    "  <h5 align=\"center\"><i>estudiante: Lazcano Lagos Jhony Brandon</i></h5>\n",
    "  <h5 align=\"center\"><i>estudiante: Ramírez Montes Jonathan Natael</i></h5>\n",
    "  <h5 align=\"center\"><i>Análisis Multivariado</i></h5>\n",
    "  </font>"
   ]
  },
  {
   "cell_type": "code",
   "execution_count": null,
   "id": "894928a8-471d-4a13-bce7-591850646549",
   "metadata": {},
   "outputs": [],
   "source": []
  }
 ],
 "metadata": {
  "kernelspec": {
   "display_name": "Python 3",
   "language": "python",
   "name": "python3"
  },
  "language_info": {
   "codemirror_mode": {
    "name": "ipython",
    "version": 3
   },
   "file_extension": ".py",
   "mimetype": "text/x-python",
   "name": "python",
   "nbconvert_exporter": "python",
   "pygments_lexer": "ipython3",
   "version": "3.8.13"
  }
 },
 "nbformat": 4,
 "nbformat_minor": 5
}
