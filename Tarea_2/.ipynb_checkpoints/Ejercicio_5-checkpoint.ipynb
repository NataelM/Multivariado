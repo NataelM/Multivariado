{
 "cells": [
  {
   "cell_type": "markdown",
   "id": "1b914d85-34c6-4ca4-b638-ff54200e2412",
   "metadata": {},
   "source": [
    "<font color=\"Teal\" face=\"Comic Sans MS,arial\">\n",
    "  <h1 align=\"center\"><i>Ejercicio 5</i></h1>\n",
    "  </font>\n",
    "  <font color=\"Black\" face=\"Comic Sans MS,arial\">\n",
    "  <h5 align=\"center\"><i>estudiante: Lazcano Lagos Jhony Brandon</i></h5>\n",
    "  <h5 align=\"center\"><i>estudiante: Ramírez Montes Jonathan Natael</i></h5>\n",
    "  <h5 align=\"center\"><i>Análisis Multivariado</i></h5>\n",
    "  </font>"
   ]
  },
  {
   "cell_type": "code",
   "execution_count": 1,
   "id": "894928a8-471d-4a13-bce7-591850646549",
   "metadata": {},
   "outputs": [],
   "source": [
    "import matplotlib.pyplot as plt\n",
    "import pandas as pd\n",
    "import seaborn as sns\n",
    "import dijkstra\n",
    "from math import inf\n",
    "import math\n",
    "from matplotlib import pyplot as plt\n",
    "from matplotlib.collections import LineCollection\n",
    "from sklearn import manifold\n",
    "from sklearn.metrics import euclidean_distances\n",
    "from sklearn.decomposition import PCA as skLearnPCA\n",
    "from sklearn.cluster import KMeans\n",
    "from sklearn.metrics import silhouette_samples, silhouette_score"
   ]
  },
  {
   "cell_type": "code",
   "execution_count": 2,
   "id": "d1829658",
   "metadata": {},
   "outputs": [],
   "source": [
    "\n",
    "def scatterPlot(plt,datasetPD,col_1,col_2,colorDots='darkblue',label=None,shift=0.05,**kwargs):\n",
    "    dataPD = datasetPD[[col_1,col_2]]\n",
    "    plt.scatter(dataPD[col_1],dataPD[col_2],color=colorDots)\n",
    "    if(label!=None):\n",
    "        points = datasetPD[[col_1,col_2,label]].values\n",
    "        for point in points:\n",
    "            plt.text(point[0]+shift,point[1]+shift,str(point[2]))\n",
    "    plt.axvline(**kwargs)\n",
    "    plt.axhline(**kwargs)"
   ]
  },
  {
   "cell_type": "code",
   "execution_count": 3,
   "id": "ccf5b7fe",
   "metadata": {},
   "outputs": [],
   "source": [
    "def find_all(wmat, start, end=-1):\n",
    "    \"\"\"\n",
    "    Returns a tuple with a distances' list and paths' list of\n",
    "    all remaining vertices with the same indexing.\n",
    "        (distances, paths)\n",
    "    For example, distances[x] are the shortest distances from x\n",
    "    vertex which shortest path is paths[x]. x is an element of\n",
    "    {0, 1, ..., n-1} where n is the number of vertices\n",
    "    Args:\n",
    "    wmat    --  weighted graph's adjacency matrix\n",
    "    start   --  paths' first vertex\n",
    "    end     --  (optional) path's end vertex. Return just the \n",
    "                distance and its path\n",
    "    Exceptions:\n",
    "    Index out of range, Be careful with start and end vertices\n",
    "    \"\"\"\n",
    "    n = len(wmat)\n",
    "\n",
    "    dist = [inf]*n\n",
    "    dist[start] = wmat[start][start]  # 0\n",
    "\n",
    "    spVertex = [False]*n\n",
    "    parent = [-1]*n\n",
    "\n",
    "    path = [{}]*n\n",
    "\n",
    "    for count in range(n-1):\n",
    "        minix = inf\n",
    "        u = 0\n",
    "\n",
    "        for v in range(len(spVertex)):\n",
    "            if spVertex[v] == False and dist[v] <= minix:\n",
    "                minix = dist[v]\n",
    "                u = v\n",
    "\n",
    "        spVertex[u] = True\n",
    "        for v in range(n):\n",
    "            if not(spVertex[v]) and wmat[u][v] != 0 and dist[u] + wmat[u][v] < dist[v]:\n",
    "                parent[v] = u\n",
    "                dist[v] = dist[u] + wmat[u][v]\n",
    "\n",
    "    for i in range(n):\n",
    "        j = i\n",
    "        s = []\n",
    "        while parent[j] != -1:\n",
    "            s.append(j)\n",
    "            j = parent[j]\n",
    "        s.append(start)\n",
    "        path[i] = s[::-1]\n",
    "\n",
    "    return (dist[end], path[end]) if end >= 0 else (dist, path)\n",
    "def find_shortest_distance(wmat, start, end=-1):\n",
    "    \"\"\"\n",
    "    Returns distances' list of all remaining vertices.\n",
    "    Args:\n",
    "    wmat    --  weigthted graph's adjacency matrix\n",
    "    start   --  paths' first vertex\n",
    "    end     --  (optional) path's end vertex. Return just\n",
    "                the distance\n",
    "    Exceptions:\n",
    "    Index out of range, Be careful with start and end vertices.\n",
    "    \"\"\"\n",
    "    return find_all(wmat, start, end)[0]"
   ]
  },
  {
   "cell_type": "code",
   "execution_count": 4,
   "id": "81b6b0f8",
   "metadata": {},
   "outputs": [
    {
     "name": "stdout",
     "output_type": "stream",
     "text": [
      "Defaulting to user installation because normal site-packages is not writeableNote: you may need to restart the kernel to use updated packages.\n",
      "\n",
      "Requirement already satisfied: Dijkstar in c:\\users\\jhonny\\appdata\\roaming\\python\\python39\\site-packages (2.6.0)\n",
      "Requirement already satisfied: six in c:\\programdata\\anaconda3\\lib\\site-packages (from Dijkstar) (1.16.0)\n"
     ]
    }
   ],
   "source": [
    "pip install Dijkstar"
   ]
  },
  {
   "cell_type": "markdown",
   "id": "e5c9abf1",
   "metadata": {},
   "source": [
    "# Matriz de adyacencia"
   ]
  },
  {
   "cell_type": "markdown",
   "id": "e81d37b3",
   "metadata": {},
   "source": [
    "Gracias a la grafica podemos dar la siguiente matriz de adyacencia"
   ]
  },
  {
   "cell_type": "code",
   "execution_count": 5,
   "id": "0ea7c219",
   "metadata": {},
   "outputs": [
    {
     "data": {
      "text/plain": [
       "[[0, 1, 1, 1, 0, 1, 0, 0, 0, 0, 0, 0, 0],\n",
       " [1, 0, 0, 0, 1, 0, 0, 0, 0, 0, 0, 0, 0],\n",
       " [1, 0, 0, 1, 1, 1, 1, 0, 0, 0, 0, 0, 0],\n",
       " [1, 0, 1, 0, 1, 0, 0, 0, 0, 0, 0, 0, 0],\n",
       " [0, 1, 1, 1, 0, 1, 0, 0, 0, 0, 0, 0, 0],\n",
       " [1, 0, 1, 0, 1, 0, 1, 0, 0, 0, 0, 0, 0],\n",
       " [0, 0, 1, 0, 0, 1, 0, 1, 0, 0, 0, 0, 1],\n",
       " [0, 0, 0, 0, 0, 0, 1, 0, 1, 1, 1, 0, 1],\n",
       " [0, 0, 0, 0, 0, 0, 0, 1, 0, 1, 0, 1, 0],\n",
       " [0, 0, 0, 0, 0, 0, 0, 1, 1, 0, 1, 0, 1],\n",
       " [0, 0, 0, 0, 0, 0, 0, 1, 0, 1, 0, 1, 1],\n",
       " [0, 0, 0, 0, 0, 0, 0, 0, 1, 0, 1, 0, 1],\n",
       " [0, 0, 0, 0, 0, 0, 1, 1, 0, 1, 1, 1, 0]]"
      ]
     },
     "execution_count": 5,
     "metadata": {},
     "output_type": "execute_result"
    }
   ],
   "source": [
    "matriz=[[0,1,1,1,0,1,0,0,0,0,0,0,0],\n",
    "        [1,0,0,0,1,0,0,0,0,0,0,0,0],\n",
    "        [1,0,0,1,1,1,1,0,0,0,0,0,0],\n",
    "        [1,0,1,0,1,0,0,0,0,0,0,0,0],\n",
    "        [0,1,1,1,0,1,0,0,0,0,0,0,0],\n",
    "        [1,0,1,0,1,0,1,0,0,0,0,0,0],\n",
    "        [0,0,1,0,0,1,0,1,0,0,0,0,1],\n",
    "        [0,0,0,0,0,0,1,0,1,1,1,0,1],\n",
    "        [0,0,0,0,0,0,0,1,0,1,0,1,0],\n",
    "        [0,0,0,0,0,0,0,1,1,0,1,0,1],\n",
    "        [0,0,0,0,0,0,0,1,0,1,0,1,1],\n",
    "        [0,0,0,0,0,0,0,0,1,0,1,0,1],\n",
    "        [0,0,0,0,0,0,1,1,0,1,1,1,0]]\n",
    "matriz"
   ]
  },
  {
   "cell_type": "markdown",
   "id": "fbb0828f",
   "metadata": {},
   "source": [
    "obtengamos nuestra matriz de distancia"
   ]
  },
  {
   "cell_type": "code",
   "execution_count": 6,
   "id": "da7da381",
   "metadata": {},
   "outputs": [
    {
     "data": {
      "text/plain": [
       "[[0, 1, 1, 1, 2, 1, 2, 3, 4, 4, 4, 4, 3],\n",
       " [1, 0, 2, 2, 1, 2, 3, 4, 5, 5, 5, 5, 4],\n",
       " [1, 2, 0, 1, 1, 1, 1, 2, 3, 3, 3, 3, 2],\n",
       " [1, 2, 1, 0, 1, 2, 2, 3, 4, 4, 4, 4, 3],\n",
       " [2, 1, 1, 1, 0, 1, 2, 3, 4, 4, 4, 4, 3],\n",
       " [1, 2, 1, 2, 1, 0, 1, 2, 3, 3, 3, 3, 2],\n",
       " [2, 3, 1, 2, 2, 1, 0, 1, 2, 2, 2, 2, 1],\n",
       " [3, 4, 2, 3, 3, 2, 1, 0, 1, 1, 1, 2, 1],\n",
       " [4, 5, 3, 4, 4, 3, 2, 1, 0, 1, 2, 1, 2],\n",
       " [4, 5, 3, 4, 4, 3, 2, 1, 1, 0, 1, 2, 1],\n",
       " [4, 5, 3, 4, 4, 3, 2, 1, 2, 1, 0, 1, 1],\n",
       " [4, 5, 3, 4, 4, 3, 2, 2, 1, 2, 1, 0, 1],\n",
       " [3, 4, 2, 3, 3, 2, 1, 1, 2, 1, 1, 1, 0]]"
      ]
     },
     "execution_count": 6,
     "metadata": {},
     "output_type": "execute_result"
    }
   ],
   "source": [
    "distancia=[]\n",
    "for i in range(13):\n",
    "    distancia.append(find_shortest_distance(matriz,i))\n",
    "distancia"
   ]
  },
  {
   "cell_type": "markdown",
   "id": "9355d3a0",
   "metadata": {},
   "source": [
    "# Escalamiento multidimensional"
   ]
  },
  {
   "cell_type": "markdown",
   "id": "4c9f19fd",
   "metadata": {},
   "source": [
    "Hagamos un escalamiento multidimensional para ver los datos en 2 dimensiones"
   ]
  },
  {
   "cell_type": "code",
   "execution_count": 7,
   "id": "d33e3759",
   "metadata": {},
   "outputs": [
    {
     "ename": "NameError",
     "evalue": "name 'mdsWordsVectors' is not defined",
     "output_type": "error",
     "traceback": [
      "\u001b[1;31m---------------------------------------------------------------------------\u001b[0m",
      "\u001b[1;31mNameError\u001b[0m                                 Traceback (most recent call last)",
      "\u001b[1;32m~\\AppData\\Local\\Temp\\ipykernel_13796\\3300858756.py\u001b[0m in \u001b[0;36m<module>\u001b[1;34m\u001b[0m\n\u001b[0;32m      4\u001b[0m                      \u001b[1;33m.\u001b[0m\u001b[0mfit_transform\u001b[0m\u001b[1;33m(\u001b[0m\u001b[0mdistancia\u001b[0m\u001b[1;33m)\u001b[0m\u001b[1;33m\u001b[0m\u001b[1;33m\u001b[0m\u001b[0m\n\u001b[0;32m      5\u001b[0m \u001b[1;33m\u001b[0m\u001b[0m\n\u001b[1;32m----> 6\u001b[1;33m \u001b[0mmapPD\u001b[0m \u001b[1;33m=\u001b[0m \u001b[0mpd\u001b[0m\u001b[1;33m.\u001b[0m\u001b[0mDataFrame\u001b[0m\u001b[1;33m(\u001b[0m\u001b[0mmdsWordsVectors\u001b[0m\u001b[1;33m,\u001b[0m\u001b[0mcolumns\u001b[0m\u001b[1;33m=\u001b[0m\u001b[0mcols\u001b[0m\u001b[1;33m)\u001b[0m\u001b[1;33m\u001b[0m\u001b[1;33m\u001b[0m\u001b[0m\n\u001b[0m\u001b[0;32m      7\u001b[0m \u001b[0mmapPD\u001b[0m\u001b[1;33m[\u001b[0m\u001b[1;34m'nodo'\u001b[0m\u001b[1;33m]\u001b[0m \u001b[1;33m=\u001b[0m \u001b[0mlist\u001b[0m\u001b[1;33m(\u001b[0m\u001b[0mrange\u001b[0m\u001b[1;33m(\u001b[0m\u001b[1;36m1\u001b[0m\u001b[1;33m,\u001b[0m\u001b[1;36m14\u001b[0m\u001b[1;33m)\u001b[0m\u001b[1;33m)\u001b[0m\u001b[1;33m\u001b[0m\u001b[1;33m\u001b[0m\u001b[0m\n\u001b[0;32m      8\u001b[0m \u001b[1;33m\u001b[0m\u001b[0m\n",
      "\u001b[1;31mNameError\u001b[0m: name 'mdsWordsVectors' is not defined"
     ]
    }
   ],
   "source": [
    "cols = ['x1','x2']\n",
    "\n",
    "mdsVectors = manifold.MDS(n_components=2,dissimilarity='precomputed',random_state=50)\\\n",
    "                     .fit_transform(distancia)\n",
    "\n",
    "mapPD = pd.DataFrame(mdsWordsVectors,columns=cols)\n",
    "mapPD['nodo'] = list(range(1,14))\n",
    "\n",
    "display(mapPD[['nodo','x1','x2']])\n",
    "\n",
    "plt.style.use('seaborn')\n",
    "plt.figure(figsize=(15,7))\n",
    "scatterPlot(plt,mapPD,'x1','x2','darkblue',label='nodo')"
   ]
  },
  {
   "cell_type": "markdown",
   "id": "21c7b0ef",
   "metadata": {},
   "source": [
    "# K-means"
   ]
  },
  {
   "cell_type": "markdown",
   "id": "834b2d20",
   "metadata": {},
   "source": [
    "Usemos K-means para separar en grupos"
   ]
  },
  {
   "cell_type": "code",
   "execution_count": null,
   "id": "fc1695ba",
   "metadata": {},
   "outputs": [],
   "source": [
    "tabla_k = []\n",
    "for k in list(range(1,10)):\n",
    "    kmeans = KMeans(n_clusters = k).fit(mapPD)\n",
    "    tabla_k.append([k, kmeans.inertia_])\n",
    "    \n",
    "tabla_k_df = pd.DataFrame(tabla_k, columns = ['k', 'inertia'])\n",
    "display(tabla_k_df)\n",
    "plt.figure(figsize=(15,5))\n",
    "plt.plot(tabla_k_df['k'].values,tabla_k_df['inertia'].values,'b-o')\n",
    "plt.show()"
   ]
  },
  {
   "cell_type": "markdown",
   "id": "95ffda01",
   "metadata": {},
   "source": [
    "Por la grafica anterior podemos ver que tenemos 2 clusters por lo que aplicaremos el algoritmo para ese numero"
   ]
  },
  {
   "cell_type": "code",
   "execution_count": null,
   "id": "d0c21926",
   "metadata": {},
   "outputs": [],
   "source": [
    "kmeans = KMeans(n_clusters = 2).fit(mapPD)\n",
    "mapPD[\"grupo\"]= kmeans.predict(mapPD)\n",
    "mapPD"
   ]
  },
  {
   "cell_type": "markdown",
   "id": "64c2478c",
   "metadata": {},
   "source": [
    "# Grafico de silhouette"
   ]
  },
  {
   "cell_type": "markdown",
   "id": "60b68c3a",
   "metadata": {},
   "source": [
    "Hagamos el grafico para ver si se separan correctamente los datos"
   ]
  },
  {
   "cell_type": "code",
   "execution_count": null,
   "id": "ef24adc5",
   "metadata": {},
   "outputs": [],
   "source": [
    "grupos = list(mapPD['grupo'].unique())\n",
    "mapPD['silhouette'] = silhouette_samples(mapPD[cols], mapPD['grupo'])\n",
    "mapPD = mapPD.sort_values(['grupo','silhouette'],ascending=False)\n",
    "mapPD"
   ]
  },
  {
   "cell_type": "code",
   "execution_count": null,
   "id": "e4249433",
   "metadata": {},
   "outputs": [],
   "source": [
    "mapPD=mapPD.reset_index().reset_index()"
   ]
  },
  {
   "cell_type": "code",
   "execution_count": null,
   "id": "d88c550f",
   "metadata": {
    "scrolled": true
   },
   "outputs": [],
   "source": [
    "plt.figure(figsize=(15,5))\n",
    "for grupo in grupos:\n",
    "    group_df = mapPD[mapPD['grupo']==grupo]\n",
    "    plt.bar(group_df['level_0'],group_df['silhouette'],width=1)"
   ]
  },
  {
   "cell_type": "markdown",
   "id": "d9bcb387",
   "metadata": {},
   "source": [
    "Como podemos ver la separación es buena y cada dato cae en su cluster correspondiente\n",
    "\n",
    "Usando esta información podemos recomendar productos que esten en su mismo grupo.\n",
    "\n",
    "Por ejemplo al momento de comprar un producto del grupo 0 recomendar más productos del mismo grupo.\n",
    "\n",
    "Otra opcion es poner cada grupo en un mismo apartado, es decir que los productos de un mismo grupo siempre se muestren juntos"
   ]
  }
 ],
 "metadata": {
  "kernelspec": {
   "display_name": "Python 3 (ipykernel)",
   "language": "python",
   "name": "python3"
  },
  "language_info": {
   "codemirror_mode": {
    "name": "ipython",
    "version": 3
   },
   "file_extension": ".py",
   "mimetype": "text/x-python",
   "name": "python",
   "nbconvert_exporter": "python",
   "pygments_lexer": "ipython3",
   "version": "3.9.13"
  }
 },
 "nbformat": 4,
 "nbformat_minor": 5
}
