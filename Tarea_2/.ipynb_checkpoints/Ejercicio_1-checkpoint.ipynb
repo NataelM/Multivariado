{
 "cells": [
  {
   "cell_type": "markdown",
   "id": "7ad83db1-0bb3-4d36-b2bc-26a62289eb17",
   "metadata": {},
   "source": [
    "<font color=\"Teal\" face=\"Comic Sans MS,arial\">\n",
    "  <h1 align=\"center\"><i>Ejercicio 1</i></h1>\n",
    "  </font>\n",
    "  <font color=\"Black\" face=\"Comic Sans MS,arial\">\n",
    "  <h5 align=\"center\"><i>estudiante: Lazcano Lagos Jhony Brandon</i></h5>\n",
    "  <h5 align=\"center\"><i>estudiante: Ramírez Montes Jonathan Natael</i></h5>\n",
    "  <h5 align=\"center\"><i>Análisis Multivariado</i></h5>\n",
    "  </font>"
   ]
  },
  {
   "cell_type": "markdown",
   "id": "0f41448f-db73-4e88-bfd6-4ce05d6e07cd",
   "metadata": {},
   "source": [
    "1. El dataset de consumo plantas.csv contienen datos que corresponden a 17 plantas electricas y el consumo de agua en galones que estas generan mensualmente. donde \n",
    "* Y: Consumo de agua en galones, \n",
    "* X1: Temperatura media mensual en grados Fahrenheit, \n",
    "* X2: Produccion mensual en libras, \n",
    "* X3: Número de días de operacion mensual, \n",
    "* X4: Numero de empleados, \n",
    "* X5: No especificada. \n",
    "\n",
    "Se pretende explicar el consumo de agua (Y) en funcion de las demás variables."
   ]
  },
  {
   "cell_type": "code",
   "execution_count": 2,
   "id": "3fb00ba3-8b88-475c-a78d-650170a1d0fb",
   "metadata": {},
   "outputs": [],
   "source": [
    "import numpy as np\n",
    "import pandas as pd\n",
    "import statsmodels.api as sm"
   ]
  },
  {
   "cell_type": "markdown",
   "id": "b1b9bfb5-6a46-4623-8ac8-ebe6b2de6368",
   "metadata": {},
   "source": [
    "a) Ajuste un modelo de regresion lineal usando mínimos cuadrados y muestre la tabla con el resumen del ajuste. ¿Que observa en dicho ajuste?, ¿Como es el numero de condición y a que se debe?"
   ]
  },
  {
   "cell_type": "code",
   "execution_count": 21,
   "id": "248ba1ea-5e61-4b58-a64f-ecf82ac6f1ea",
   "metadata": {},
   "outputs": [],
   "source": [
    "rel_path = './datasets/'\n",
    "plantas = pd.read_csv(rel_path + 'consumo_plantas.csv')"
   ]
  },
  {
   "cell_type": "code",
   "execution_count": 22,
   "id": "8be82f98-b988-4adb-abb8-933abd60f9e4",
   "metadata": {},
   "outputs": [
    {
     "data": {
      "text/html": [
       "<div>\n",
       "<style scoped>\n",
       "    .dataframe tbody tr th:only-of-type {\n",
       "        vertical-align: middle;\n",
       "    }\n",
       "\n",
       "    .dataframe tbody tr th {\n",
       "        vertical-align: top;\n",
       "    }\n",
       "\n",
       "    .dataframe thead th {\n",
       "        text-align: right;\n",
       "    }\n",
       "</style>\n",
       "<table border=\"1\" class=\"dataframe\">\n",
       "  <thead>\n",
       "    <tr style=\"text-align: right;\">\n",
       "      <th></th>\n",
       "      <th>Planta</th>\n",
       "      <th>Y</th>\n",
       "      <th>X1</th>\n",
       "      <th>X2</th>\n",
       "      <th>X3</th>\n",
       "      <th>X4</th>\n",
       "      <th>X5</th>\n",
       "    </tr>\n",
       "  </thead>\n",
       "  <tbody>\n",
       "    <tr>\n",
       "      <th>0</th>\n",
       "      <td>1</td>\n",
       "      <td>3067</td>\n",
       "      <td>58.8</td>\n",
       "      <td>7107</td>\n",
       "      <td>21</td>\n",
       "      <td>129</td>\n",
       "      <td>176.7</td>\n",
       "    </tr>\n",
       "    <tr>\n",
       "      <th>1</th>\n",
       "      <td>2</td>\n",
       "      <td>2828</td>\n",
       "      <td>65.2</td>\n",
       "      <td>6373</td>\n",
       "      <td>22</td>\n",
       "      <td>141</td>\n",
       "      <td>157.6</td>\n",
       "    </tr>\n",
       "    <tr>\n",
       "      <th>2</th>\n",
       "      <td>3</td>\n",
       "      <td>2891</td>\n",
       "      <td>70.9</td>\n",
       "      <td>6796</td>\n",
       "      <td>22</td>\n",
       "      <td>153</td>\n",
       "      <td>193.0</td>\n",
       "    </tr>\n",
       "    <tr>\n",
       "      <th>3</th>\n",
       "      <td>4</td>\n",
       "      <td>2994</td>\n",
       "      <td>77.4</td>\n",
       "      <td>9208</td>\n",
       "      <td>20</td>\n",
       "      <td>166</td>\n",
       "      <td>212.6</td>\n",
       "    </tr>\n",
       "    <tr>\n",
       "      <th>4</th>\n",
       "      <td>5</td>\n",
       "      <td>3082</td>\n",
       "      <td>79.3</td>\n",
       "      <td>14792</td>\n",
       "      <td>25</td>\n",
       "      <td>193</td>\n",
       "      <td>251.1</td>\n",
       "    </tr>\n",
       "  </tbody>\n",
       "</table>\n",
       "</div>"
      ],
      "text/plain": [
       "   Planta     Y    X1     X2  X3   X4     X5\n",
       "0       1  3067  58.8   7107  21  129  176.7\n",
       "1       2  2828  65.2   6373  22  141  157.6\n",
       "2       3  2891  70.9   6796  22  153  193.0\n",
       "3       4  2994  77.4   9208  20  166  212.6\n",
       "4       5  3082  79.3  14792  25  193  251.1"
      ]
     },
     "execution_count": 22,
     "metadata": {},
     "output_type": "execute_result"
    }
   ],
   "source": [
    "plantas.head()"
   ]
  },
  {
   "cell_type": "code",
   "execution_count": 50,
   "id": "0d1de96c-8d3e-4e74-b81f-7ba5b29fb19e",
   "metadata": {},
   "outputs": [
    {
     "name": "stdout",
     "output_type": "stream",
     "text": [
      "                            OLS Regression Results                            \n",
      "==============================================================================\n",
      "Dep. Variable:                      Y   R-squared:                       0.820\n",
      "Model:                            OLS   Adj. R-squared:                  0.738\n",
      "Method:                 Least Squares   F-statistic:                     9.995\n",
      "Date:                Fri, 02 Dec 2022   Prob (F-statistic):           0.000834\n",
      "Time:                        21:31:44   Log-Likelihood:                -112.78\n",
      "No. Observations:                  17   AIC:                             237.6\n",
      "Df Residuals:                      11   BIC:                             242.6\n",
      "Df Model:                           5                                         \n",
      "Covariance Type:            nonrobust                                         \n",
      "==============================================================================\n",
      "                 coef    std err          t      P>|t|      [0.025      0.975]\n",
      "------------------------------------------------------------------------------\n",
      "const       7707.9134   1423.389      5.415      0.000    4575.056    1.08e+04\n",
      "X1             1.7859      8.249      0.217      0.833     -16.370      19.941\n",
      "X2             0.2624      0.051      5.192      0.000       0.151       0.374\n",
      "X3          -169.1652     50.110     -3.376      0.006    -279.458     -58.873\n",
      "X4            -9.7740      9.491     -1.030      0.325     -30.664      11.116\n",
      "X5            -9.5434      5.331     -1.790      0.101     -21.276       2.189\n",
      "==============================================================================\n",
      "Omnibus:                        0.297   Durbin-Watson:                   2.905\n",
      "Prob(Omnibus):                  0.862   Jarque-Bera (JB):                0.456\n",
      "Skew:                           0.006   Prob(JB):                        0.796\n",
      "Kurtosis:                       2.198   Cond. No.                     3.43e+05\n",
      "==============================================================================\n",
      "\n",
      "Notes:\n",
      "[1] Standard Errors assume that the covariance matrix of the errors is correctly specified.\n",
      "[2] The condition number is large, 3.43e+05. This might indicate that there are\n",
      "strong multicollinearity or other numerical problems.\n"
     ]
    },
    {
     "name": "stderr",
     "output_type": "stream",
     "text": [
      "C:\\Users\\jonat\\anaconda3\\lib\\site-packages\\scipy\\stats\\stats.py:1603: UserWarning: kurtosistest only valid for n>=20 ... continuing anyway, n=17\n",
      "  warnings.warn(\"kurtosistest only valid for n>=20 ... continuing \"\n"
     ]
    }
   ],
   "source": [
    "# Separando las predictoras del target\n",
    "x = plantas[['X1', 'X2', 'X3', 'X4', 'X5']]\n",
    "y = plantas[['Y']]\n",
    "\n",
    "# anadiendo el termino cte\n",
    "x = sm.add_constant(x)\n",
    "\n",
    "# ajuste del modelo\n",
    "result = sm.OLS(y, x).fit()\n",
    "\n",
    "# resumen del modelo\n",
    "print(result.summary())"
   ]
  },
  {
   "cell_type": "markdown",
   "id": "971d912a-33ab-4c05-b528-fec154c59d2c",
   "metadata": {},
   "source": [
    "De lo anterior, podemos deducir que la variavilidad explicada ($R^2$) por el modelo es del 82%, es decir un 82% del incremento en el consumo de agua está dado por el incremento de las $X_i$ y dado que la $R^2$ ajustada se aleja bastante de $R^2$ podríamos inferir que tenemos variables de más, Además esto se apoya también de los P_values y los intervalos de confianza, pues podemos observar que X_1, X_4 y X_5 tiene un p_value mayor al 5% y sus intervalos de confianza tocan al cero por lo que dichas variables serían candidatas a salir del modelo\n",
    "\n",
    "El **número de condición** es grande y esto se debe a una posible multicolinealidad entre las variables, es decir que existe mas de una variable que está explicando lo mismo o que una columna podría ser una combinación lineal de otra"
   ]
  },
  {
   "cell_type": "markdown",
   "id": "88fd5278-d338-4e6e-975c-17e636a99208",
   "metadata": {},
   "source": [
    "b) Estandarice los datos de las variables explicativas con escalador estandar, posteriormente ajuste un modelo de componentes principales con 5 componentes. Calcule la varianza explicada acumulada por cada componente, muestre la matriz de transformacion PCA. ¿Que observa? ¿A que cree que deba dicho fenomeno?. No use la variable a regresar (Y) para estandarizar ni en las componentes."
   ]
  },
  {
   "cell_type": "code",
   "execution_count": 51,
   "id": "8297f2eb-c110-4f8d-a971-718b629ed4ac",
   "metadata": {},
   "outputs": [],
   "source": [
    "from sklearn.preprocessing import StandardScaler\n",
    "from sklearn.decomposition import PCA"
   ]
  },
  {
   "cell_type": "code",
   "execution_count": 52,
   "id": "b730e145-78ac-4175-a09a-95075e342cb6",
   "metadata": {},
   "outputs": [],
   "source": [
    "scaler = StandardScaler()"
   ]
  },
  {
   "cell_type": "code",
   "execution_count": 54,
   "id": "d0760d73-434c-4507-af22-51fa682e1be9",
   "metadata": {},
   "outputs": [
    {
     "data": {
      "text/plain": [
       "StandardScaler()"
      ]
     },
     "execution_count": 54,
     "metadata": {},
     "output_type": "execute_result"
    }
   ],
   "source": [
    "scaler.fit(x[['X1', 'X2', 'X3', 'X4', 'X5']])"
   ]
  },
  {
   "cell_type": "code",
   "execution_count": 55,
   "id": "0238b20d-33bf-45bc-9c8a-16a1c23b1699",
   "metadata": {},
   "outputs": [],
   "source": [
    "x_centered = scaler.transform(x[['X1', 'X2', 'X3', 'X4', 'X5']])"
   ]
  },
  {
   "cell_type": "code",
   "execution_count": null,
   "id": "8214c0ed-842c-4db1-a932-d019b0586137",
   "metadata": {},
   "outputs": [],
   "source": [
    "kw = 5"
   ]
  },
  {
   "cell_type": "code",
   "execution_count": null,
   "id": "15674b84-c93e-4568-8596-820e6311fe1d",
   "metadata": {},
   "outputs": [],
   "source": [
    "pca_plantas_centered = PCA(n_components=kw).fit(x_centeres)"
   ]
  },
  {
   "cell_type": "markdown",
   "id": "46001562-781a-455c-bff2-2d77ac774530",
   "metadata": {},
   "source": [
    "c) Ajuste de nuevo un modelo de regresion lineal usando mínimos cuadrados pero ahora sobre las componentes principales, luego muestre la tabla con el resumen del nuevo ajuste. ¿Que diferencia observa en el nuevo ajuste respecto al primero en el numero de condición y coeficiente de determinación?. Investigue y argumente como es que las componentes principales ayudan a mitigar el problema de la multicolinealidad severa."
   ]
  },
  {
   "cell_type": "code",
   "execution_count": null,
   "id": "bd48cd8b-3bb4-46df-882d-5ee2b0bad51a",
   "metadata": {},
   "outputs": [],
   "source": []
  }
 ],
 "metadata": {
  "kernelspec": {
   "display_name": "Python 3",
   "language": "python",
   "name": "python3"
  },
  "language_info": {
   "codemirror_mode": {
    "name": "ipython",
    "version": 3
   },
   "file_extension": ".py",
   "mimetype": "text/x-python",
   "name": "python",
   "nbconvert_exporter": "python",
   "pygments_lexer": "ipython3",
   "version": "3.8.13"
  }
 },
 "nbformat": 4,
 "nbformat_minor": 5
}
